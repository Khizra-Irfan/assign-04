{
  "nbformat": 4,
  "nbformat_minor": 0,
  "metadata": {
    "colab": {
      "provenance": [],
      "authorship_tag": "ABX9TyPqyI0/fYtcQf6ykcZh+HUr",
      "include_colab_link": true
    },
    "kernelspec": {
      "name": "python3",
      "display_name": "Python 3"
    },
    "language_info": {
      "name": "python"
    }
  },
  "cells": [
    {
      "cell_type": "markdown",
      "metadata": {
        "id": "view-in-github",
        "colab_type": "text"
      },
      "source": [
        "<a href=\"https://colab.research.google.com/github/Khizra-Irfan/assign-04/blob/main/01_expressions.ipynb\" target=\"_parent\"><img src=\"https://colab.research.google.com/assets/colab-badge.svg\" alt=\"Open In Colab\"/></a>"
      ]
    },
    {
      "cell_type": "code",
      "execution_count": null,
      "metadata": {
        "colab": {
          "base_uri": "https://localhost:8080/"
        },
        "id": "vcNBa8V1Xh-v",
        "outputId": "5dfc1fa0-fb87-46b5-bd44-98d248b5d10a"
      },
      "outputs": [
        {
          "output_type": "stream",
          "name": "stdout",
          "text": [
            "01_dicesimulator\n",
            "dice1 in main() start as :10\n",
            "Total of two dices: 9\n",
            "Total of two dices: 7\n",
            "Total of two dices: 3\n",
            "dice1 in main() is:10\n"
          ]
        }
      ],
      "source": [
        "import random\n",
        "print(\"01_dicesimulator\")\n",
        "\n",
        "def roll_dice():\n",
        "  dice1:int = random.randint(1, 6)\n",
        "  dice2:int = random.randint(1, 6)\n",
        "  total:int = dice1 + dice2\n",
        "  print(f\"Total of two dices: {total}\")\n",
        "\n",
        "def main():\n",
        "  dice1:int = 10\n",
        "  print(\"dice1 in main() start as : \" + str(dice1))\n",
        "  roll_dice()\n",
        "  roll_dice()\n",
        "  roll_dice()\n",
        "  print(\"dice1 in main() is : \" + str(dice1))\n",
        "\n",
        "if __name__ == \"__main__\":\n",
        "  main()"
      ]
    },
    {
      "cell_type": "code",
      "source": [
        "print(\"02_e=mc2\")\n",
        "\n",
        "def energy():\n",
        "  c:float = 299792458\n",
        "  m:float = float(input(\"Enter Kilos of mass : \"))\n",
        "  print(\"e = m * c^2\")\n",
        "  print(\"Mass = \" + str(m) + \" kg\")\n",
        "  print(\"c = \" + str(c) + \" m/s\")\n",
        "  print(\"e = \" + str(m * c ** 2) + \" jules\")\n",
        "\n",
        "if __name__ == \"__main__\":\n",
        "  energy()\n"
      ],
      "metadata": {
        "colab": {
          "base_uri": "https://localhost:8080/"
        },
        "id": "ot4Vu29Ahv2l",
        "outputId": "2190bb92-c440-4e85-a1b4-333e20d39bc1"
      },
      "execution_count": null,
      "outputs": [
        {
          "output_type": "stream",
          "name": "stdout",
          "text": [
            "02_e=mc2\n",
            "Enter Kilos of mass : 6789\n",
            "e = m * c^2\n",
            "Mass = 6789.0 kg\n",
            "c = 299792458 m/s\n",
            "e = 6.101648908444255e+20 jules\n"
          ]
        }
      ]
    },
    {
      "cell_type": "code",
      "source": [
        "print(\"03_feet_to_inches\")\n",
        "\n",
        "inch: int = 12\n",
        "\n",
        "def foot():\n",
        "  feet:int = int(input(\"Enter feet and i will convert into inches\"))\n",
        "  print(f\"There are {inch * feet} inches in {feet} feet.\")\n",
        "\n",
        "if __name__ == \"__main__\":\n",
        "  foot()"
      ],
      "metadata": {
        "colab": {
          "base_uri": "https://localhost:8080/"
        },
        "id": "RAlnpB6zkum7",
        "outputId": "1339c94e-abf5-4d1c-de1e-ab537257c10a"
      },
      "execution_count": null,
      "outputs": [
        {
          "output_type": "stream",
          "name": "stdout",
          "text": [
            "03_feet_to_inches\n",
            "Enter feet and i will convert into inches2\n",
            "There are 24 inches in 2 feet.\n"
          ]
        }
      ]
    },
    {
      "cell_type": "code",
      "source": [
        "import math\n",
        "print(\"04_pythagorean_theorem\")\n",
        "\n",
        "def triangle():\n",
        "  ab:float = float(input(\"Enter the length of the side ab : \"))\n",
        "  bc:float = float(input(\"Enter the length of the side bc : \"))\n",
        "  ac:float = math.sqrt(ab ** 2 + bc ** 2)\n",
        "  print(f\"The length of ac (the hypotenuse is {ac})\")\n",
        "\n",
        "if __name__ == \"__main__\":\n",
        "  triangle()"
      ],
      "metadata": {
        "id": "vKeZk0f7oy-y",
        "colab": {
          "base_uri": "https://localhost:8080/"
        },
        "outputId": "12777ab9-c0e3-4981-d812-7a78512de3ab"
      },
      "execution_count": null,
      "outputs": [
        {
          "output_type": "stream",
          "name": "stdout",
          "text": [
            "04_pythagorean_theorem\n",
            "Enter the length of the side ab : 4.9\n",
            "Enter the length of the side bc : 5.8\n",
            "The length of ac (the hypotenuse is 7.592759709091287)\n"
          ]
        }
      ]
    },
    {
      "cell_type": "code",
      "source": [
        "print(\"05_remainder_division\")\n",
        "\n",
        "def reminder():\n",
        "  num1: int = int(input(\"Enter an integer to be divided: \"))\n",
        "  num2: int = int(input(\"Enter an integer to divide by: \"))\n",
        "  quotient: int = num1 // num2\n",
        "  remainder: int = num1 % num2\n",
        "  print(f\"The result of this division is {quotient} with remainder {remainder}\")\n",
        "\n",
        "if __name__ == \"__main__\":\n",
        "  reminder()"
      ],
      "metadata": {
        "colab": {
          "base_uri": "https://localhost:8080/"
        },
        "id": "X5HiqbDmIEHv",
        "outputId": "68a9f5f3-540a-4fec-a836-b23d92366d97"
      },
      "execution_count": 3,
      "outputs": [
        {
          "output_type": "stream",
          "name": "stdout",
          "text": [
            "05_remainder_division\n",
            "Enter an integer to be divided: 56\n",
            "Enter an integer to divide by: 3\n",
            "The result of this division is 18 with remainder 2\n"
          ]
        }
      ]
    },
    {
      "cell_type": "code",
      "source": [
        "import random\n",
        "print(\"06_rolldice\")\n",
        "\n",
        "def dice():\n",
        "  die1:int = random.randint(1, 6)\n",
        "  die2:int = random.randint(1, 6)\n",
        "  total:int = die1 + die2\n",
        "  print(\"First die: \" + str(die1))\n",
        "  print(\"Second die: \" + str(die2))\n",
        "  print(f\"Total of two dies: {total}\")\n",
        "\n",
        "if __name__ == \"__main__\":\n",
        "  dice()"
      ],
      "metadata": {
        "colab": {
          "base_uri": "https://localhost:8080/"
        },
        "id": "KLBGv6KKQfzL",
        "outputId": "96d2366f-0ede-40a2-cde0-20bb4f2ecfb8"
      },
      "execution_count": 5,
      "outputs": [
        {
          "output_type": "stream",
          "name": "stdout",
          "text": [
            "06_rolldice\n",
            "First die: 4\n",
            "Second die: 6\n",
            "Total of two dies: 10\n"
          ]
        }
      ]
    },
    {
      "cell_type": "code",
      "source": [
        "print(\"06_seconds_in_year\")\n",
        "\n",
        "days_in_year:int = 365\n",
        "hours_in_day:int = 24\n",
        "minutes_in_hour:int = 60\n",
        "seconds_in_minute:int = 60\n",
        "\n",
        "def seconds():\n",
        "  print(f\"There are {days_in_year * hours_in_day * minutes_in_hour * seconds_in_minute} seconds in a year.\")\n",
        "\n",
        "if __name__ == \"__main__\":\n",
        "  seconds()"
      ],
      "metadata": {
        "colab": {
          "base_uri": "https://localhost:8080/"
        },
        "id": "Eb5eyJJjSDvg",
        "outputId": "c5cdfcd6-a9c4-4110-8cb0-abfa24875c25"
      },
      "execution_count": 8,
      "outputs": [
        {
          "output_type": "stream",
          "name": "stdout",
          "text": [
            "06_seconds_in_year\n",
            "There are 31536000 seconds in a year.\n"
          ]
        }
      ]
    },
    {
      "cell_type": "code",
      "source": [
        "print(\"07_tiny_mad_lib\")\n",
        "\n",
        "def mad_lib():\n",
        "  noun: str = input(\"Enter a noun: \")\n",
        "  verb: str = input(\"Enter a verb: \")\n",
        "  adjective: str = input(\"Enter an adjective: \")\n",
        "  print(f\"Do you {verb} your {adjective} {noun}?\")\n",
        "\n",
        "if __name__ == \"__main__\":\n",
        "  mad_lib()"
      ],
      "metadata": {
        "colab": {
          "base_uri": "https://localhost:8080/"
        },
        "id": "0YgC_Tsbh0vK",
        "outputId": "027737e4-02e5-4375-b9f7-fc5d2404e816"
      },
      "execution_count": 10,
      "outputs": [
        {
          "output_type": "stream",
          "name": "stdout",
          "text": [
            "07_tiny_mad_lib\n",
            "Enter a noun: cat\n",
            "Enter a verb: sleep\n",
            "Enter an adjective: cute\n",
            "Do you sleep your cute cat?\n"
          ]
        }
      ]
    }
  ]
}