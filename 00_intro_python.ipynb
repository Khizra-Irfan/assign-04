{
  "nbformat": 4,
  "nbformat_minor": 0,
  "metadata": {
    "colab": {
      "provenance": [],
      "authorship_tag": "ABX9TyN6FXrCmRNvxwLoxII0H32m",
      "include_colab_link": true
    },
    "kernelspec": {
      "name": "python3",
      "display_name": "Python 3"
    },
    "language_info": {
      "name": "python"
    }
  },
  "cells": [
    {
      "cell_type": "markdown",
      "metadata": {
        "id": "view-in-github",
        "colab_type": "text"
      },
      "source": [
        "<a href=\"https://colab.research.google.com/github/Khizra-Irfan/assign-04/blob/main/00_intro_python.ipynb\" target=\"_parent\"><img src=\"https://colab.research.google.com/assets/colab-badge.svg\" alt=\"Open In Colab\"/></a>"
      ]
    },
    {
      "cell_type": "code",
      "execution_count": null,
      "metadata": {
        "colab": {
          "base_uri": "https://localhost:8080/"
        },
        "id": "3_yl2MZjoyun",
        "outputId": "c2223e99-754c-42d0-f14e-e56fddde4254"
      },
      "outputs": [
        {
          "output_type": "stream",
          "name": "stdout",
          "text": [
            "01_add_two_numbers\n",
            "This application for add two numbers\n",
            "Enter your first number: 5\n",
            "Enter your second number: 6\n",
            "The total sum of 5 and 6 is 11\n"
          ]
        }
      ],
      "source": [
        "print(\"01_add_two_numbers\")\n",
        "\n",
        "def add():\n",
        "  print(\"This application for add two numbers\")\n",
        "  first_number = int(input(\"Enter your first number: \"))\n",
        "  second_number = int(input(\"Enter your second number: \"))\n",
        "  total = int(first_number + second_number)\n",
        "  print(f\"The total sum of {first_number} and {second_number} is {total}\")\n",
        "\n",
        "if __name__ == \"__main__\":\n",
        "  add()"
      ]
    },
    {
      "cell_type": "code",
      "source": [
        "print(\"02_agreement_bot\")\n",
        "\n",
        "def bot():\n",
        "  animal = str(input(\"What their favorite animal is? \"))\n",
        "  print(f\"My favorite animal is also {animal}!\")\n",
        "\n",
        "if __name__ == \"__main__\":\n",
        "  bot()"
      ],
      "metadata": {
        "colab": {
          "base_uri": "https://localhost:8080/"
        },
        "id": "aEdCkV56uWMe",
        "outputId": "6b7baefa-ad78-4b0c-cbf3-0d5bbf8781dd"
      },
      "execution_count": null,
      "outputs": [
        {
          "output_type": "stream",
          "name": "stdout",
          "text": [
            "02_agreement_bot\n",
            "What their favorite animal is? cat\n",
            "My favorite animal is also cat!\n"
          ]
        }
      ]
    },
    {
      "cell_type": "code",
      "source": [
        "print(\"03_fahrenheit_to_celsius\")\n",
        "\n",
        "def temp():\n",
        "  print(\"This code is used for converting fahrenheit to celsius\")\n",
        "  fahrenheit_degree = float(input(\"Enter your fahrenheit degree: \"))\n",
        "  celsius_degree = (fahrenheit_degree - 32) * 5.0/9.0\n",
        "  print(f\"Temperature {fahrenheit_degree} F = {celsius_degree} C\")\n",
        "\n",
        "if __name__ == \"__main__\":\n",
        "  temp()"
      ],
      "metadata": {
        "id": "eOGgJjmqv0GI",
        "colab": {
          "base_uri": "https://localhost:8080/"
        },
        "outputId": "94280df3-d002-4516-b80b-ef6b0e060af5"
      },
      "execution_count": null,
      "outputs": [
        {
          "output_type": "stream",
          "name": "stdout",
          "text": [
            "03_fahrenheit_to_celsius\n",
            "This code is used for converting fahrenheit to celsius\n",
            "Enter your fahrenheit degree: 52\n",
            "Temperature 52.0 F = 11.11111111111111 C\n"
          ]
        }
      ]
    },
    {
      "cell_type": "code",
      "source": [
        "print(\"04_how_old_are_they\")\n",
        "\n",
        "def add_ages():\n",
        "  anthon: int = 21\n",
        "  beth: int = anthon + 6\n",
        "  chen: int = beth + 20\n",
        "  drew: int = chen + anthon\n",
        "  ethan: int = chen\n",
        "\n",
        "  print(\"Anthon is \" + str(anthon))\n",
        "  print(\"Beth is \" + str(beth))\n",
        "  print(\"Chen is \" + str(chen))\n",
        "  print(\"Drew is \" + str(drew))\n",
        "  print(\"Ethan is \" + str(ethan))\n",
        "\n",
        "if __name__ == \"__main__\":\n",
        "  add_ages()"
      ],
      "metadata": {
        "colab": {
          "base_uri": "https://localhost:8080/"
        },
        "id": "8YnaBhXT3QIj",
        "outputId": "3debfd59-4f7b-46da-e0b1-9f2ec975c40b"
      },
      "execution_count": null,
      "outputs": [
        {
          "output_type": "stream",
          "name": "stdout",
          "text": [
            "04_how_old_are_they\n",
            "Anthon is 21\n",
            "Beth is 27\n",
            "Chen is 47\n",
            "Drew is 68\n",
            "Ethan is 47\n"
          ]
        }
      ]
    },
    {
      "cell_type": "code",
      "source": [
        "print(\"05_triangle_perimeter\")\n",
        "\n",
        "def triangle():\n",
        "  print(\"This code is about perimeter of triangle\")\n",
        "  side1: float = float(input(\"Enter your first side no of triangle: \"))\n",
        "  side2: float = float(input(\"Enter your second side no of triangle: \"))\n",
        "  side3: float = float(input(\"Enter your third side no of triangle: \"))\n",
        "  total: float = float(side1 + side2 + side3)\n",
        "  print(f\"The perimeter of the triangle is {total}\")\n",
        "\n",
        "if __name__ == \"__main__\":\n",
        "  triangle()"
      ],
      "metadata": {
        "colab": {
          "base_uri": "https://localhost:8080/"
        },
        "id": "g37S9pK8qCOG",
        "outputId": "62c86fc6-3bfd-42be-ff7c-374117a5ce7e"
      },
      "execution_count": null,
      "outputs": [
        {
          "output_type": "stream",
          "name": "stdout",
          "text": [
            "05_triangle_perimeter\n",
            "This code is about perimeter of triangle\n",
            "Enter your first side no of triangle: 3\n",
            "Enter your second side no of triangle: 4\n",
            "Enter your third side no of triangle: 5\n",
            "The perimeter of the triangle is 12.0\n"
          ]
        }
      ]
    },
    {
      "cell_type": "code",
      "source": [
        "print(\"06_square_number\")\n",
        "\n",
        "def square():\n",
        "  print(\"This code is about square of number\")\n",
        "  num1: int = int(input(\"Enter any number and i will give you square of it: \"))\n",
        "  total: int = int(num1 * num1)\n",
        "  print(f\"The square of {num1} is {total}\")\n",
        "\n",
        "if __name__ == \"__main__\":\n",
        "  square()"
      ],
      "metadata": {
        "colab": {
          "base_uri": "https://localhost:8080/"
        },
        "id": "e3JghUnPsR6K",
        "outputId": "b7b01272-7abf-4c5d-f643-3607c14d00b7"
      },
      "execution_count": null,
      "outputs": [
        {
          "output_type": "stream",
          "name": "stdout",
          "text": [
            "06_square_number\n",
            "This code is about square of number\n",
            "Enter any number and i will give you square of it: 4\n",
            "The square of 4 is 16\n"
          ]
        }
      ]
    }
  ]
}